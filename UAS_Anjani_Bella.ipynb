{
  "nbformat": 4,
  "nbformat_minor": 0,
  "metadata": {
    "colab": {
      "provenance": [],
      "authorship_tag": "ABX9TyMpI3DAKhcjJRa97od9wLmP",
      "include_colab_link": true
    },
    "kernelspec": {
      "name": "python3",
      "display_name": "Python 3"
    },
    "language_info": {
      "name": "python"
    }
  },
  "cells": [
    {
      "cell_type": "markdown",
      "metadata": {
        "id": "view-in-github",
        "colab_type": "text"
      },
      "source": [
        "<a href=\"https://colab.research.google.com/github/anjanidwilestari/PCVK_Genap_2023/blob/main/UAS_Anjani_Bella.ipynb\" target=\"_parent\"><img src=\"https://colab.research.google.com/assets/colab-badge.svg\" alt=\"Open In Colab\"/></a>"
      ]
    },
    {
      "cell_type": "markdown",
      "source": [
        "UAS PCVK TI-3E\n",
        "\n",
        "Judul: Evaluasi Performa Teknik Klasifikasi Hyperparameter Tuning CNN pada Dataset CKPLUS\n",
        "\n",
        "Anggota:\n",
        "1. Anjani Dwilestari        2041720180/03\n",
        "2. Bella Sonia Dwi Angelina 2041720063/04"
      ],
      "metadata": {
        "id": "FKVzbab6tnDb"
      }
    },
    {
      "cell_type": "markdown",
      "source": [
        "LANGKAH 1 - SETUP"
      ],
      "metadata": {
        "id": "cS6pH2t0uN-9"
      }
    },
    {
      "cell_type": "code",
      "source": [
        "!pip install -q -U keras-tuner"
      ],
      "metadata": {
        "id": "zuRq7Nhrukmz",
        "colab": {
          "base_uri": "https://localhost:8080/"
        },
        "outputId": "e210ef2a-b02b-4bcb-a1e8-039f9c316801"
      },
      "execution_count": null,
      "outputs": [
        {
          "output_type": "stream",
          "name": "stdout",
          "text": [
            "\u001b[?25l     \u001b[90m━━━━━━━━━━━━━━━━━━━━━━━━━━━━━━━━━━━━━━━━\u001b[0m \u001b[32m0.0/176.1 kB\u001b[0m \u001b[31m?\u001b[0m eta \u001b[36m-:--:--\u001b[0m\r\u001b[2K     \u001b[90m━━━━━━━━━━━━━━━━━━━━━━━━━━━━━━━━━━━━━━\u001b[0m \u001b[32m176.1/176.1 kB\u001b[0m \u001b[31m10.5 MB/s\u001b[0m eta \u001b[36m0:00:00\u001b[0m\n",
            "\u001b[?25h"
          ]
        }
      ]
    },
    {
      "cell_type": "code",
      "source": [
        "#akses drive\n",
        "from google.colab import drive\n",
        "drive.mount('/content/drive')"
      ],
      "metadata": {
        "colab": {
          "base_uri": "https://localhost:8080/"
        },
        "id": "H98iyK3UuUSy",
        "outputId": "7c17cdd2-ccee-430f-fa02-a04a34107da6"
      },
      "execution_count": null,
      "outputs": [
        {
          "output_type": "stream",
          "name": "stdout",
          "text": [
            "Mounted at /content/drive\n"
          ]
        }
      ]
    },
    {
      "cell_type": "code",
      "source": [
        "import tensorflow as tf\n",
        "from tensorflow import keras\n",
        "import keras_tuner as kt\n",
        "\n",
        "import matplotlib.pyplot as plt\n",
        "import numpy as np\n",
        "import pandas as pd"
      ],
      "metadata": {
        "id": "ptgiN4ETugyg"
      },
      "execution_count": null,
      "outputs": []
    },
    {
      "cell_type": "markdown",
      "source": [
        "LANGKAH 2 - PERSIAPAN DATASET"
      ],
      "metadata": {
        "id": "45ncdCEBuwpN"
      }
    },
    {
      "cell_type": "markdown",
      "source": [
        "Load Data"
      ],
      "metadata": {
        "id": "Dkd8yySfvA2l"
      }
    },
    {
      "cell_type": "code",
      "source": [
        "import os\n",
        "print(os.listdir(\"/content/drive/MyDrive/PCVK_AB/input/ck/\"))\n",
        "\n",
        "x = []\n",
        "y = []\n",
        "datadir = '/content/drive/MyDrive/PCVK_AB/CK+48'\n",
        "Categories = []\n",
        "for file_label in os.listdir(datadir):\n",
        "    Categories.append(file_label)\n",
        "    for file_name in os.listdir(datadir+'/'+file_label):\n",
        "        x.append(datadir+'/'+file_label+'/'+file_name)\n",
        "        y.append(file_label)"
      ],
      "metadata": {
        "colab": {
          "base_uri": "https://localhost:8080/"
        },
        "id": "Nq6Ag2A0uNpJ",
        "outputId": "80010306-0041-49d5-e2c5-17e7f9f6afd4"
      },
      "execution_count": null,
      "outputs": [
        {
          "output_type": "stream",
          "name": "stdout",
          "text": [
            "['CK+48', 'models', '.ipynb_checkpoints']\n"
          ]
        }
      ]
    },
    {
      "cell_type": "markdown",
      "source": [
        "Split Data"
      ],
      "metadata": {
        "id": "IAF_u5blvC1H"
      }
    },
    {
      "cell_type": "code",
      "source": [
        "from sklearn.model_selection import train_test_split\n",
        "\n",
        "x_train, x_test, y_train, y_test = train_test_split(x, y,test_size=0.20,random_state=34)"
      ],
      "metadata": {
        "id": "mCq7NpJ0u2tN"
      },
      "execution_count": null,
      "outputs": []
    },
    {
      "cell_type": "code",
      "source": [
        "print(\"x_train = \",len(x_train))\n",
        "print(\"x_test = \",len(x_test))"
      ],
      "metadata": {
        "colab": {
          "base_uri": "https://localhost:8080/"
        },
        "id": "9-UmcrzFu355",
        "outputId": "13831f3d-e6a7-403e-9316-71a7093294d0"
      },
      "execution_count": null,
      "outputs": [
        {
          "output_type": "stream",
          "name": "stdout",
          "text": [
            "x_train =  784\n",
            "x_test =  197\n"
          ]
        }
      ]
    },
    {
      "cell_type": "code",
      "source": [
        "# os.mkdir('/content/drive/MyDrive/PCVK_AB/CK+48_Working/train')\n",
        "# os.mkdir('/content/drive/MyDrive/PCVK_AB/CK+48_Working/test')"
      ],
      "metadata": {
        "id": "nxaiSCVAxmEh"
      },
      "execution_count": null,
      "outputs": []
    },
    {
      "cell_type": "code",
      "source": [
        "# for file_label in Categories:\n",
        "#     os.mkdir('/content/drive/MyDrive/PCVK_AB/CK+48_Working/test/'+file_label)\n",
        "#     new='/content/drive/MyDrive/PCVK_AB/CK+48_Working/test/'+file_label\n",
        "#     for file_name in x_test :\n",
        "#         if(file_name.find(file_label))>0:\n",
        "#             shutil.copy2(file_name, new)"
      ],
      "metadata": {
        "id": "aUJdpObAxnyT"
      },
      "execution_count": null,
      "outputs": []
    },
    {
      "cell_type": "code",
      "source": [
        "# for file_label in Categories:\n",
        "#     os.mkdir('/content/drive/MyDrive/PCVK_AB/CK+48_Working/train/'+file_label)\n",
        "#     new='/content/drive/MyDrive/PCVK_AB/CK+48_Working/train/'+file_label\n",
        "#     for file_name in x_train :\n",
        "#         if(file_name.find(file_label))>0:\n",
        "#             shutil.copy2(file_name, new)"
      ],
      "metadata": {
        "id": "S9SValf7xoyC"
      },
      "execution_count": null,
      "outputs": []
    },
    {
      "cell_type": "markdown",
      "source": [
        "Augmentation & Normalization Data"
      ],
      "metadata": {
        "id": "JqbeTzU7vFMp"
      }
    },
    {
      "cell_type": "code",
      "source": [
        "from keras.preprocessing.image import ImageDataGenerator\n",
        "\n",
        "Resize_pixelsize = 48\n",
        "BS = 7\n",
        "\n",
        "def get_datagen(dataset, aug=False):\n",
        "    if aug:\n",
        "        datagen = ImageDataGenerator(\n",
        "                            rescale=1./255,\n",
        "                            featurewise_center=False,\n",
        "                            featurewise_std_normalization=False,\n",
        "                            rotation_range=10,\n",
        "                            width_shift_range=0.1,\n",
        "                            height_shift_range=0.1,\n",
        "                            zoom_range=0.1,\n",
        "                            horizontal_flip=True)\n",
        "    else:\n",
        "        datagen = ImageDataGenerator(rescale=1./255)\n",
        "\n",
        "    return datagen.flow_from_directory(\n",
        "            dataset,\n",
        "            target_size=(Resize_pixelsize,Resize_pixelsize),\n",
        "            color_mode='rgb',\n",
        "            shuffle = True,\n",
        "            class_mode='categorical',\n",
        "            batch_size=BS)"
      ],
      "metadata": {
        "id": "8c5uWvZTu4Wm"
      },
      "execution_count": null,
      "outputs": []
    },
    {
      "cell_type": "code",
      "source": [
        "train_generator  = get_datagen('/content/drive/MyDrive/PCVK_AB/CK+48_Working/train')\n",
        "dev_generator  = get_datagen('/content/drive/MyDrive/PCVK_AB/CK+48_Working/test')"
      ],
      "metadata": {
        "colab": {
          "base_uri": "https://localhost:8080/"
        },
        "id": "D78_3wSxu8Tp",
        "outputId": "cf7fb892-d7e9-4cd2-a2dc-11dfe117f702"
      },
      "execution_count": null,
      "outputs": [
        {
          "output_type": "stream",
          "name": "stdout",
          "text": [
            "Found 784 images belonging to 7 classes.\n",
            "Found 197 images belonging to 7 classes.\n"
          ]
        }
      ]
    },
    {
      "cell_type": "code",
      "source": [
        "label = train_generator.class_indices.keys()\n",
        "print(label)"
      ],
      "metadata": {
        "colab": {
          "base_uri": "https://localhost:8080/"
        },
        "id": "mm0uYKRMu9bU",
        "outputId": "71455e9f-db86-4a92-a84d-0b444d35952e"
      },
      "execution_count": null,
      "outputs": [
        {
          "output_type": "stream",
          "name": "stdout",
          "text": [
            "dict_keys(['anger', 'contempt', 'disgust', 'fear', 'happy', 'sadness', 'surprise'])\n"
          ]
        }
      ]
    },
    {
      "cell_type": "markdown",
      "source": [
        "LANGKAH 3 - DEFINE MODEL"
      ],
      "metadata": {
        "id": "-Plw-QTBvIj7"
      }
    },
    {
      "cell_type": "code",
      "execution_count": null,
      "metadata": {
        "id": "XtHd79pxtWpm"
      },
      "outputs": [],
      "source": [
        "from keras.models import Sequential\n",
        "from keras.layers import *\n",
        "from keras.losses import categorical_crossentropy\n",
        "\n",
        "input_shape=(48,48,3)\n",
        "\n",
        "class MyHyperModel(kt.HyperModel):\n",
        "    def build(self, hp):\n",
        "        model = Sequential()\n",
        "        model.add(Conv2D(6, (5, 5), input_shape=input_shape, padding='same', activation = 'relu'))\n",
        "        model.add(MaxPooling2D(pool_size=(2, 2)))\n",
        "\n",
        "        model.add(Conv2D(16, (5, 5), padding='same', activation = 'relu'))\n",
        "        model.add(Activation('relu'))\n",
        "        model.add(MaxPooling2D(pool_size=(2, 2)))\n",
        "\n",
        "        model.add(Conv2D(64, (3, 3), activation = 'relu'))\n",
        "        model.add(MaxPooling2D(pool_size=(2, 2)))\n",
        "\n",
        "        model.add(Flatten())\n",
        "        \n",
        "        model.add(Dense(128, activation = 'relu'))\n",
        "        model.add(Dropout(0.5))\n",
        "        model.add(Dense(7, activation = 'softmax'))\n",
        "\n",
        "\n",
        "        # Tune the learning rate for the optimizer\n",
        "        # Choose an optimal value from 0.01, 0.001, or 0.0001\n",
        "        hp_learning_rate = hp.Choice('learning_rate', values=[1e-2, 1e-3, 1e-4])\n",
        "\n",
        "        model.compile(\n",
        "            optimizer=keras.optimizers.Adam(learning_rate=hp_learning_rate),\n",
        "            loss='categorical_crossentropy',\n",
        "            metrics=['accuracy'],\n",
        "        )\n",
        "        return model\n",
        "\n",
        "    def fit(self, hp, model, *args, **kwargs):\n",
        "        return model.fit(\n",
        "            *args,\n",
        "            batch_size=hp.Choice(\"batch_size\", [2, 7, 16, 32]),\n",
        "            **kwargs,\n",
        "        )"
      ]
    },
    {
      "cell_type": "markdown",
      "source": [
        "LANGKAH 4 - Instansiasi Tuner dan Lakukan Hypertuning"
      ],
      "metadata": {
        "id": "ljBFgp0IvfJ7"
      }
    },
    {
      "cell_type": "code",
      "source": [
        "tuner = kt.Hyperband(\n",
        "    MyHyperModel(),\n",
        "    objective=\"val_accuracy\",\n",
        "    overwrite=True,\n",
        "    max_epochs=10,\n",
        "    factor=3,\n",
        "    directory='my_dir',\n",
        "    project_name='intro_to_kt',\n",
        ")"
      ],
      "metadata": {
        "id": "ciudffXk3o8s"
      },
      "execution_count": null,
      "outputs": []
    },
    {
      "cell_type": "markdown",
      "source": [
        "Buat callback untuk menghentikan training lebih awal setelah mencapai nilai tertentu untuk validation loss."
      ],
      "metadata": {
        "id": "249HhqlvvqIk"
      }
    },
    {
      "cell_type": "code",
      "source": [
        "stop_early = tf.keras.callbacks.EarlyStopping(monitor='val_loss', patience=5)"
      ],
      "metadata": {
        "id": "0l0Zey8svnWf"
      },
      "execution_count": null,
      "outputs": []
    },
    {
      "cell_type": "markdown",
      "source": [
        "Tuner search"
      ],
      "metadata": {
        "id": "leLFCH5Fv2Yo"
      }
    },
    {
      "cell_type": "code",
      "source": [
        "tuner.search(train_generator, epochs=50, validation_data=dev_generator, callbacks=[stop_early])\n",
        "\n",
        "# Get the optimal hyperparameters\n",
        "best_hps=tuner.get_best_hyperparameters(num_trials=1)[0]\n",
        "\n",
        "print(f\"\"\"\n",
        "The hyperparameter search is complete. The optimal learning rate for the optimizer\n",
        "is {best_hps.get('learning_rate')} and The optimal batch size for the optimizer is {best_hps.get('batch_size')}\n",
        "\"\"\")"
      ],
      "metadata": {
        "colab": {
          "base_uri": "https://localhost:8080/"
        },
        "id": "razoTx5zv5Jp",
        "outputId": "64f8d953-bf35-499b-d379-15322446f9aa"
      },
      "execution_count": null,
      "outputs": [
        {
          "output_type": "stream",
          "name": "stdout",
          "text": [
            "Trial 18 Complete [00h 00m 40s]\n",
            "val_accuracy: 0.9187816977500916\n",
            "\n",
            "Best val_accuracy So Far: 0.9593908786773682\n",
            "Total elapsed time: 00h 08m 38s\n",
            "\n",
            "The hyperparameter search is complete. The optimal learning rate for the optimizer\n",
            "is 0.001 and The optimal batch size for the optimizer is 7\n",
            "\n"
          ]
        }
      ]
    },
    {
      "cell_type": "markdown",
      "source": [
        "LANGKAH 5 - TRAIN MODEL"
      ],
      "metadata": {
        "id": "ko5AXBPJv4HP"
      }
    },
    {
      "cell_type": "code",
      "source": [
        "# Build the model with the optimal hyperparameters and train it on the data for 50 epochs\n",
        "model = tuner.hypermodel.build(best_hps)\n",
        "\n",
        "history = model.fit(train_generator, epochs=50, validation_data=dev_generator)\n",
        "\n",
        "val_acc_per_epoch = history.history['val_accuracy']\n",
        "best_epoch = val_acc_per_epoch.index(max(val_acc_per_epoch)) + 1\n",
        "print('Best epoch: %d' % (best_epoch,))"
      ],
      "metadata": {
        "colab": {
          "base_uri": "https://localhost:8080/"
        },
        "id": "1LGcO3luv16k",
        "outputId": "36160563-b7c8-4d14-8e1b-22adf7d364d4"
      },
      "execution_count": null,
      "outputs": [
        {
          "output_type": "stream",
          "name": "stdout",
          "text": [
            "Epoch 1/50\n",
            "112/112 [==============================] - 8s 59ms/step - loss: 1.7792 - accuracy: 0.2972 - val_loss: 1.4386 - val_accuracy: 0.5127\n",
            "Epoch 2/50\n",
            "112/112 [==============================] - 5s 41ms/step - loss: 1.1738 - accuracy: 0.5651 - val_loss: 0.8171 - val_accuracy: 0.7056\n",
            "Epoch 3/50\n",
            "112/112 [==============================] - 6s 51ms/step - loss: 0.8033 - accuracy: 0.6964 - val_loss: 0.7249 - val_accuracy: 0.7563\n",
            "Epoch 4/50\n",
            "112/112 [==============================] - 4s 32ms/step - loss: 0.6092 - accuracy: 0.7819 - val_loss: 0.4451 - val_accuracy: 0.8426\n",
            "Epoch 5/50\n",
            "112/112 [==============================] - 4s 34ms/step - loss: 0.4944 - accuracy: 0.8138 - val_loss: 0.3783 - val_accuracy: 0.8883\n",
            "Epoch 6/50\n",
            "112/112 [==============================] - 6s 54ms/step - loss: 0.3406 - accuracy: 0.8839 - val_loss: 0.2608 - val_accuracy: 0.9239\n",
            "Epoch 7/50\n",
            "112/112 [==============================] - 4s 34ms/step - loss: 0.2584 - accuracy: 0.9107 - val_loss: 0.1997 - val_accuracy: 0.9239\n",
            "Epoch 8/50\n",
            "112/112 [==============================] - 6s 51ms/step - loss: 0.2693 - accuracy: 0.9018 - val_loss: 0.1860 - val_accuracy: 0.9594\n",
            "Epoch 9/50\n",
            "112/112 [==============================] - 4s 34ms/step - loss: 0.1619 - accuracy: 0.9464 - val_loss: 0.1626 - val_accuracy: 0.9442\n",
            "Epoch 10/50\n",
            "112/112 [==============================] - 5s 48ms/step - loss: 0.1715 - accuracy: 0.9375 - val_loss: 0.1790 - val_accuracy: 0.9543\n",
            "Epoch 11/50\n",
            "112/112 [==============================] - 4s 33ms/step - loss: 0.1496 - accuracy: 0.9541 - val_loss: 0.1475 - val_accuracy: 0.9594\n",
            "Epoch 12/50\n",
            "112/112 [==============================] - 5s 44ms/step - loss: 0.1150 - accuracy: 0.9528 - val_loss: 0.1136 - val_accuracy: 0.9848\n",
            "Epoch 13/50\n",
            "112/112 [==============================] - 4s 34ms/step - loss: 0.1345 - accuracy: 0.9554 - val_loss: 0.1375 - val_accuracy: 0.9695\n",
            "Epoch 14/50\n",
            "112/112 [==============================] - 4s 34ms/step - loss: 0.1052 - accuracy: 0.9643 - val_loss: 0.1799 - val_accuracy: 0.9797\n",
            "Epoch 15/50\n",
            "112/112 [==============================] - 6s 51ms/step - loss: 0.0715 - accuracy: 0.9758 - val_loss: 0.0777 - val_accuracy: 0.9797\n",
            "Epoch 16/50\n",
            "112/112 [==============================] - 4s 34ms/step - loss: 0.1445 - accuracy: 0.9528 - val_loss: 0.1379 - val_accuracy: 0.9848\n",
            "Epoch 17/50\n",
            "112/112 [==============================] - 6s 52ms/step - loss: 0.0747 - accuracy: 0.9732 - val_loss: 0.0632 - val_accuracy: 0.9848\n",
            "Epoch 18/50\n",
            "112/112 [==============================] - 4s 34ms/step - loss: 0.1146 - accuracy: 0.9643 - val_loss: 0.1034 - val_accuracy: 0.9797\n",
            "Epoch 19/50\n",
            "112/112 [==============================] - 6s 49ms/step - loss: 0.0955 - accuracy: 0.9694 - val_loss: 0.1335 - val_accuracy: 0.9645\n",
            "Epoch 20/50\n",
            "112/112 [==============================] - 4s 33ms/step - loss: 0.0760 - accuracy: 0.9758 - val_loss: 0.0505 - val_accuracy: 0.9797\n",
            "Epoch 21/50\n",
            "112/112 [==============================] - 7s 61ms/step - loss: 0.0446 - accuracy: 0.9872 - val_loss: 0.1093 - val_accuracy: 0.9848\n",
            "Epoch 22/50\n",
            "112/112 [==============================] - 4s 32ms/step - loss: 0.0400 - accuracy: 0.9885 - val_loss: 0.1634 - val_accuracy: 0.9746\n",
            "Epoch 23/50\n",
            "112/112 [==============================] - 4s 32ms/step - loss: 0.0425 - accuracy: 0.9809 - val_loss: 0.1508 - val_accuracy: 0.9797\n",
            "Epoch 24/50\n",
            "112/112 [==============================] - 6s 53ms/step - loss: 0.0325 - accuracy: 0.9949 - val_loss: 0.0207 - val_accuracy: 0.9898\n",
            "Epoch 25/50\n",
            "112/112 [==============================] - 4s 33ms/step - loss: 0.0518 - accuracy: 0.9809 - val_loss: 0.0409 - val_accuracy: 0.9848\n",
            "Epoch 26/50\n",
            "112/112 [==============================] - 4s 34ms/step - loss: 0.0336 - accuracy: 0.9911 - val_loss: 0.1447 - val_accuracy: 0.9695\n",
            "Epoch 27/50\n",
            "112/112 [==============================] - 5s 49ms/step - loss: 0.0779 - accuracy: 0.9809 - val_loss: 0.2661 - val_accuracy: 0.9695\n",
            "Epoch 28/50\n",
            "112/112 [==============================] - 4s 34ms/step - loss: 0.0830 - accuracy: 0.9668 - val_loss: 0.0628 - val_accuracy: 0.9848\n",
            "Epoch 29/50\n",
            "112/112 [==============================] - 6s 52ms/step - loss: 0.0477 - accuracy: 0.9847 - val_loss: 0.1075 - val_accuracy: 0.9848\n",
            "Epoch 30/50\n",
            "112/112 [==============================] - 4s 32ms/step - loss: 0.0374 - accuracy: 0.9847 - val_loss: 0.0373 - val_accuracy: 0.9848\n",
            "Epoch 31/50\n",
            "112/112 [==============================] - 4s 33ms/step - loss: 0.0199 - accuracy: 0.9949 - val_loss: 0.1856 - val_accuracy: 0.9848\n",
            "Epoch 32/50\n",
            "112/112 [==============================] - 5s 45ms/step - loss: 0.0522 - accuracy: 0.9809 - val_loss: 0.1465 - val_accuracy: 0.9797\n",
            "Epoch 33/50\n",
            "112/112 [==============================] - 4s 34ms/step - loss: 0.0640 - accuracy: 0.9796 - val_loss: 0.0438 - val_accuracy: 0.9797\n",
            "Epoch 34/50\n",
            "112/112 [==============================] - 5s 43ms/step - loss: 0.0314 - accuracy: 0.9872 - val_loss: 0.0682 - val_accuracy: 0.9797\n",
            "Epoch 35/50\n",
            "112/112 [==============================] - 4s 37ms/step - loss: 0.0321 - accuracy: 0.9872 - val_loss: 0.1194 - val_accuracy: 0.9848\n",
            "Epoch 36/50\n",
            "112/112 [==============================] - 4s 32ms/step - loss: 0.0296 - accuracy: 0.9923 - val_loss: 0.1292 - val_accuracy: 0.9848\n",
            "Epoch 37/50\n",
            "112/112 [==============================] - 6s 50ms/step - loss: 0.0477 - accuracy: 0.9860 - val_loss: 0.0979 - val_accuracy: 0.9848\n",
            "Epoch 38/50\n",
            "112/112 [==============================] - 4s 33ms/step - loss: 0.0163 - accuracy: 0.9974 - val_loss: 0.0564 - val_accuracy: 0.9848\n",
            "Epoch 39/50\n",
            "112/112 [==============================] - 5s 45ms/step - loss: 0.0373 - accuracy: 0.9898 - val_loss: 0.1473 - val_accuracy: 0.9848\n",
            "Epoch 40/50\n",
            "112/112 [==============================] - 4s 37ms/step - loss: 0.0830 - accuracy: 0.9872 - val_loss: 0.0125 - val_accuracy: 0.9949\n",
            "Epoch 41/50\n",
            "112/112 [==============================] - 4s 32ms/step - loss: 0.0438 - accuracy: 0.9860 - val_loss: 0.0143 - val_accuracy: 1.0000\n",
            "Epoch 42/50\n",
            "112/112 [==============================] - 4s 39ms/step - loss: 0.0275 - accuracy: 0.9911 - val_loss: 0.0327 - val_accuracy: 0.9898\n",
            "Epoch 43/50\n",
            "112/112 [==============================] - 5s 46ms/step - loss: 0.0315 - accuracy: 0.9847 - val_loss: 0.0860 - val_accuracy: 0.9797\n",
            "Epoch 44/50\n",
            "112/112 [==============================] - 4s 34ms/step - loss: 0.0229 - accuracy: 0.9898 - val_loss: 0.1769 - val_accuracy: 0.9797\n",
            "Epoch 45/50\n",
            "112/112 [==============================] - 4s 36ms/step - loss: 0.0621 - accuracy: 0.9796 - val_loss: 0.1930 - val_accuracy: 0.9848\n",
            "Epoch 46/50\n",
            "112/112 [==============================] - 4s 39ms/step - loss: 0.0389 - accuracy: 0.9834 - val_loss: 0.1436 - val_accuracy: 0.9848\n",
            "Epoch 47/50\n",
            "112/112 [==============================] - 4s 34ms/step - loss: 0.0272 - accuracy: 0.9962 - val_loss: 0.1863 - val_accuracy: 0.9848\n",
            "Epoch 48/50\n",
            "112/112 [==============================] - 4s 40ms/step - loss: 0.0097 - accuracy: 0.9962 - val_loss: 0.1121 - val_accuracy: 0.9848\n",
            "Epoch 49/50\n",
            "112/112 [==============================] - 4s 39ms/step - loss: 0.0171 - accuracy: 0.9936 - val_loss: 0.1440 - val_accuracy: 0.9848\n",
            "Epoch 50/50\n",
            "112/112 [==============================] - 4s 34ms/step - loss: 0.0322 - accuracy: 0.9860 - val_loss: 0.1290 - val_accuracy: 0.9848\n",
            "Best epoch: 41\n"
          ]
        }
      ]
    },
    {
      "cell_type": "markdown",
      "source": [
        "Instansiasi ulang hypermodel dan latih dengan jumlah epoch optimal dari atas"
      ],
      "metadata": {
        "id": "5WbxDZ5WwNTB"
      }
    },
    {
      "cell_type": "code",
      "source": [
        "hypermodel = tuner.hypermodel.build(best_hps)\n",
        "\n",
        "# Retrain the model\n",
        "hypermodel.fit(train_generator, epochs=best_epoch, validation_data=dev_generator)"
      ],
      "metadata": {
        "colab": {
          "base_uri": "https://localhost:8080/"
        },
        "id": "Yn-oK7mLwN-H",
        "outputId": "cb1d33bc-866e-4fdc-ba07-b1ce0ea636cc"
      },
      "execution_count": null,
      "outputs": [
        {
          "output_type": "stream",
          "name": "stdout",
          "text": [
            "Epoch 1/41\n",
            "112/112 [==============================] - 7s 55ms/step - loss: 1.7574 - accuracy: 0.3367 - val_loss: 1.2852 - val_accuracy: 0.4975\n",
            "Epoch 2/41\n",
            "112/112 [==============================] - 4s 31ms/step - loss: 1.1502 - accuracy: 0.5765 - val_loss: 0.9187 - val_accuracy: 0.6650\n",
            "Epoch 3/41\n",
            "112/112 [==============================] - 5s 46ms/step - loss: 0.8451 - accuracy: 0.6913 - val_loss: 0.6471 - val_accuracy: 0.7310\n",
            "Epoch 4/41\n",
            "112/112 [==============================] - 4s 40ms/step - loss: 0.6261 - accuracy: 0.7628 - val_loss: 0.5010 - val_accuracy: 0.7919\n",
            "Epoch 5/41\n",
            "112/112 [==============================] - 7s 60ms/step - loss: 0.5252 - accuracy: 0.8112 - val_loss: 0.4111 - val_accuracy: 0.8376\n",
            "Epoch 6/41\n",
            "112/112 [==============================] - 4s 34ms/step - loss: 0.4180 - accuracy: 0.8482 - val_loss: 0.3497 - val_accuracy: 0.8629\n",
            "Epoch 7/41\n",
            "112/112 [==============================] - 6s 51ms/step - loss: 0.3141 - accuracy: 0.8954 - val_loss: 0.2627 - val_accuracy: 0.9137\n",
            "Epoch 8/41\n",
            "112/112 [==============================] - 4s 34ms/step - loss: 0.2861 - accuracy: 0.9056 - val_loss: 0.2533 - val_accuracy: 0.9036\n",
            "Epoch 9/41\n",
            "112/112 [==============================] - 6s 53ms/step - loss: 0.2373 - accuracy: 0.9056 - val_loss: 0.1944 - val_accuracy: 0.9340\n",
            "Epoch 10/41\n",
            "112/112 [==============================] - 4s 34ms/step - loss: 0.2013 - accuracy: 0.9260 - val_loss: 0.1279 - val_accuracy: 0.9391\n",
            "Epoch 11/41\n",
            "112/112 [==============================] - 4s 34ms/step - loss: 0.1951 - accuracy: 0.9298 - val_loss: 0.1294 - val_accuracy: 0.9340\n",
            "Epoch 12/41\n",
            "112/112 [==============================] - 6s 51ms/step - loss: 0.1447 - accuracy: 0.9528 - val_loss: 0.0928 - val_accuracy: 0.9594\n",
            "Epoch 13/41\n",
            "112/112 [==============================] - 4s 33ms/step - loss: 0.1165 - accuracy: 0.9554 - val_loss: 0.0896 - val_accuracy: 0.9594\n",
            "Epoch 14/41\n",
            "112/112 [==============================] - 6s 53ms/step - loss: 0.1414 - accuracy: 0.9503 - val_loss: 0.0824 - val_accuracy: 0.9594\n",
            "Epoch 15/41\n",
            "112/112 [==============================] - 4s 33ms/step - loss: 0.1055 - accuracy: 0.9617 - val_loss: 0.0728 - val_accuracy: 0.9645\n",
            "Epoch 16/41\n",
            "112/112 [==============================] - 6s 50ms/step - loss: 0.1263 - accuracy: 0.9605 - val_loss: 0.0900 - val_accuracy: 0.9543\n",
            "Epoch 17/41\n",
            "112/112 [==============================] - 4s 34ms/step - loss: 0.0929 - accuracy: 0.9681 - val_loss: 0.0788 - val_accuracy: 0.9695\n",
            "Epoch 18/41\n",
            "112/112 [==============================] - 5s 46ms/step - loss: 0.0851 - accuracy: 0.9732 - val_loss: 0.1613 - val_accuracy: 0.9645\n",
            "Epoch 19/41\n",
            "112/112 [==============================] - 4s 34ms/step - loss: 0.1071 - accuracy: 0.9617 - val_loss: 0.1077 - val_accuracy: 0.9594\n",
            "Epoch 20/41\n",
            "112/112 [==============================] - 6s 52ms/step - loss: 0.0893 - accuracy: 0.9707 - val_loss: 0.1517 - val_accuracy: 0.9442\n",
            "Epoch 21/41\n",
            "112/112 [==============================] - 4s 33ms/step - loss: 0.0641 - accuracy: 0.9770 - val_loss: 0.1746 - val_accuracy: 0.9391\n",
            "Epoch 22/41\n",
            "112/112 [==============================] - 4s 33ms/step - loss: 0.1038 - accuracy: 0.9617 - val_loss: 0.0864 - val_accuracy: 0.9594\n",
            "Epoch 23/41\n",
            "112/112 [==============================] - 5s 45ms/step - loss: 0.0788 - accuracy: 0.9719 - val_loss: 0.0267 - val_accuracy: 0.9949\n",
            "Epoch 24/41\n",
            "112/112 [==============================] - 4s 33ms/step - loss: 0.0470 - accuracy: 0.9834 - val_loss: 0.0405 - val_accuracy: 0.9797\n",
            "Epoch 25/41\n",
            "112/112 [==============================] - 4s 33ms/step - loss: 0.0401 - accuracy: 0.9834 - val_loss: 0.0735 - val_accuracy: 0.9695\n",
            "Epoch 26/41\n",
            "112/112 [==============================] - 5s 44ms/step - loss: 0.0634 - accuracy: 0.9758 - val_loss: 0.0145 - val_accuracy: 0.9949\n",
            "Epoch 27/41\n",
            "112/112 [==============================] - 4s 32ms/step - loss: 0.0510 - accuracy: 0.9809 - val_loss: 0.1522 - val_accuracy: 0.9746\n",
            "Epoch 28/41\n",
            "112/112 [==============================] - 4s 32ms/step - loss: 0.0626 - accuracy: 0.9834 - val_loss: 0.1703 - val_accuracy: 0.9746\n",
            "Epoch 29/41\n",
            "112/112 [==============================] - 5s 44ms/step - loss: 0.0446 - accuracy: 0.9834 - val_loss: 0.1117 - val_accuracy: 0.9695\n",
            "Epoch 30/41\n",
            "112/112 [==============================] - 4s 34ms/step - loss: 0.0495 - accuracy: 0.9834 - val_loss: 0.1365 - val_accuracy: 0.9645\n",
            "Epoch 31/41\n",
            "112/112 [==============================] - 4s 32ms/step - loss: 0.0355 - accuracy: 0.9847 - val_loss: 0.1092 - val_accuracy: 0.9848\n",
            "Epoch 32/41\n",
            "112/112 [==============================] - 5s 41ms/step - loss: 0.0851 - accuracy: 0.9630 - val_loss: 0.2814 - val_accuracy: 0.9442\n",
            "Epoch 33/41\n",
            "112/112 [==============================] - 4s 34ms/step - loss: 0.0502 - accuracy: 0.9809 - val_loss: 0.1138 - val_accuracy: 0.9695\n",
            "Epoch 34/41\n",
            "112/112 [==============================] - 4s 34ms/step - loss: 0.0933 - accuracy: 0.9732 - val_loss: 0.1422 - val_accuracy: 0.9746\n",
            "Epoch 35/41\n",
            "112/112 [==============================] - 5s 42ms/step - loss: 0.0377 - accuracy: 0.9872 - val_loss: 0.1747 - val_accuracy: 0.9848\n",
            "Epoch 36/41\n",
            "112/112 [==============================] - 4s 34ms/step - loss: 0.0333 - accuracy: 0.9911 - val_loss: 0.1035 - val_accuracy: 0.9797\n",
            "Epoch 37/41\n",
            "112/112 [==============================] - 7s 64ms/step - loss: 0.0516 - accuracy: 0.9783 - val_loss: 0.1122 - val_accuracy: 0.9797\n",
            "Epoch 38/41\n",
            "112/112 [==============================] - 4s 34ms/step - loss: 0.0601 - accuracy: 0.9783 - val_loss: 0.0881 - val_accuracy: 0.9645\n",
            "Epoch 39/41\n",
            "112/112 [==============================] - 4s 34ms/step - loss: 0.0199 - accuracy: 0.9923 - val_loss: 0.0844 - val_accuracy: 0.9695\n",
            "Epoch 40/41\n",
            "112/112 [==============================] - 5s 42ms/step - loss: 0.0359 - accuracy: 0.9872 - val_loss: 0.0677 - val_accuracy: 0.9797\n",
            "Epoch 41/41\n",
            "112/112 [==============================] - 4s 38ms/step - loss: 0.0354 - accuracy: 0.9885 - val_loss: 0.0754 - val_accuracy: 0.9746\n"
          ]
        },
        {
          "output_type": "execute_result",
          "data": {
            "text/plain": [
              "<keras.callbacks.History at 0x7f6a5b9b80d0>"
            ]
          },
          "metadata": {},
          "execution_count": 18
        }
      ]
    },
    {
      "cell_type": "markdown",
      "source": [
        "Evaluasi hypermodel dengan data test"
      ],
      "metadata": {
        "id": "bW_pJZYNwcsA"
      }
    },
    {
      "cell_type": "code",
      "source": [
        "eval_result = hypermodel.evaluate(dev_generator)\n",
        "print(\"[test loss, test accuracy]:\", eval_result)"
      ],
      "metadata": {
        "colab": {
          "base_uri": "https://localhost:8080/"
        },
        "id": "dfSrXV2hwY3f",
        "outputId": "e0dbd48d-d82c-4b28-8946-22e429d98ae2"
      },
      "execution_count": null,
      "outputs": [
        {
          "output_type": "stream",
          "name": "stdout",
          "text": [
            "29/29 [==============================] - 1s 17ms/step - loss: 0.0754 - accuracy: 0.9746\n",
            "[test loss, test accuracy]: [0.07538267970085144, 0.9746192693710327]\n"
          ]
        }
      ]
    },
    {
      "cell_type": "markdown",
      "source": [
        "LANGKAH 6 - MEMPERSIAPKAN MODEL UNTUK PREDIKSI"
      ],
      "metadata": {
        "id": "PvW5A9Buwn41"
      }
    },
    {
      "cell_type": "markdown",
      "source": [
        "Menyimpan Model"
      ],
      "metadata": {
        "id": "jbeVhQKxw6ge"
      }
    },
    {
      "cell_type": "code",
      "source": [
        "batch_size_str = '-BS_' + str(best_hps.get('batch_size'))\n",
        "learning_rate_str = '-LR_' + str(best_hps.get('learning_rate'))\n",
        "epoch_str = '-EPOCHS_' + str(best_epoch)\n",
        "test_acc = 'test_acc_%.3f' % eval_result[1]\n",
        "model.save('/content/drive/MyDrive/PCVK_AB/CK+48_Working/models/' + 'Sequential' + epoch_str + batch_size_str + learning_rate_str + test_acc + '.h5')"
      ],
      "metadata": {
        "id": "7VytAqT-w8DG"
      },
      "execution_count": null,
      "outputs": []
    },
    {
      "cell_type": "markdown",
      "source": [
        "Load Model"
      ],
      "metadata": {
        "id": "JsPAKYGzw8kR"
      }
    },
    {
      "cell_type": "code",
      "source": [
        "# Loading the best fit model \n",
        "from keras.models import load_model\n",
        "model = load_model('/content/drive/MyDrive/PCVK_AB/CK+48_Working/models/Sequential-EPOCHS_41-BS_7-LR_0.001test_acc_0.975.h5')"
      ],
      "metadata": {
        "id": "vJN0gdeQxBH8"
      },
      "execution_count": null,
      "outputs": []
    },
    {
      "cell_type": "code",
      "source": [
        "# just to map o/p values \n",
        "op = dict(zip( train_generator.class_indices.values(), train_generator.class_indices.keys()))"
      ],
      "metadata": {
        "id": "0t-3sPXBxCH3"
      },
      "execution_count": null,
      "outputs": []
    },
    {
      "cell_type": "code",
      "source": [
        "# path for the image to see if it predics correct class\n",
        "from keras.utils import img_to_array, load_img\n",
        "\n",
        "path = \"/content/drive/MyDrive/PCVK_AB/Emotion Detection/test/fearful/im139.png\"\n",
        "img = load_img(path, target_size=(48,48) )\n",
        "\n",
        "i = img_to_array(img)/255\n",
        "input_arr = np.array([i])\n",
        "input_arr.shape\n",
        "\n",
        "pred = np.argmax(model.predict(input_arr))\n",
        "\n",
        "print(f\" the image is of {op[pred]}\")\n",
        "\n",
        "# Buat plot dengan ukuran 150x150 piksel\n",
        "plt.figure(figsize=(1.5, 1.5), dpi=100)  # ukuran figur dalam inches (1 inch = 100 piksel)\n",
        "\n",
        "# Tampilkan gambar dengan ukuran 150x150 piksel\n",
        "plt.imshow(input_arr[0], extent=[0, 150, 0, 150])\n",
        "\n",
        "# Hapus sumbu\n",
        "plt.axis('off')\n",
        "\n",
        "# Tampilkan plot\n",
        "plt.show()"
      ],
      "metadata": {
        "colab": {
          "base_uri": "https://localhost:8080/",
          "height": 187
        },
        "id": "6NBvOBl4xDHt",
        "outputId": "efa9b54d-86ac-4f58-f199-04c465f3c734"
      },
      "execution_count": null,
      "outputs": [
        {
          "output_type": "stream",
          "name": "stdout",
          "text": [
            "1/1 [==============================] - 0s 31ms/step\n",
            " the image is of fear\n"
          ]
        },
        {
          "output_type": "display_data",
          "data": {
            "text/plain": [
              "<Figure size 150x150 with 1 Axes>"
            ],
            "image/png": "[encoded data removed]"
          },
          "metadata": {}
        }
      ]
    }
  ]
}